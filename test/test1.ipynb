{
 "cells": [
  {
   "cell_type": "code",
   "execution_count": null,
   "metadata": {},
   "outputs": [],
   "source": [
    "import numpy as np\n",
    "\n",
    "import repackage\n",
    "repackage.add_path('/home/danial/code/pyglplot/')\n",
    "\n",
    "from pyglplot import plot"
   ]
  },
  {
   "cell_type": "code",
   "execution_count": null,
   "metadata": {},
   "outputs": [],
   "source": [
    "line1 = plot.Line()\n",
    "line2 = plot.Line()\n",
    "\n",
    "win = plot.Canvas([line1, line2])\n",
    "\n",
    "\n",
    "line1.setColor([1, 0, 0])\n",
    "line2.setColor([0, 1, 0])\n",
    "\n",
    "win.setGlobalOffset(0, 0.5)\n",
    "win.setGlobalScale(1, 0.6)\n",
    "\n",
    "x = np.linspace(-1, 1, 1000)\n",
    "\n",
    "def loop():\n",
    "    y1 = np.sin(x * np.pi * 2) * 0.8 + \\\n",
    "        np.random.rand(len(x)) * 0.1\n",
    "\n",
    "    y2 = np.cos(x * np.pi * 2) * 0.8 + \\\n",
    "        np.random.rand(len(x)) * 0.1\n",
    "\n",
    "    line1.setXY(x, y1)\n",
    "    line2.setXY(x, y2)\n",
    "\n",
    "win.setEventLoop(loop)\n",
    "\n",
    "win"
   ]
  }
 ],
 "metadata": {
  "kernelspec": {
   "display_name": "Python 3",
   "language": "python",
   "name": "python3"
  },
  "language_info": {
   "codemirror_mode": {
    "name": "ipython",
    "version": 3
   },
   "file_extension": ".py",
   "mimetype": "text/x-python",
   "name": "python",
   "nbconvert_exporter": "python",
   "pygments_lexer": "ipython3",
   "version": "3.10.6 (main, Nov 14 2022, 16:10:14) [GCC 11.3.0]"
  },
  "orig_nbformat": 4,
  "vscode": {
   "interpreter": {
    "hash": "916dbcbb3f70747c44a77c7bcd40155683ae19c65e1c03b4aa3499c5328201f1"
   }
  }
 },
 "nbformat": 4,
 "nbformat_minor": 2
}
