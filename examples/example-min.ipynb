{
 "cells": [
  {
   "cell_type": "code",
   "execution_count": null,
   "metadata": {},
   "outputs": [],
   "source": [
    "import numpy as np\n",
    "from pyglplot import plot"
   ]
  },
  {
   "cell_type": "code",
   "execution_count": null,
   "metadata": {},
   "outputs": [],
   "source": [
    "line = plot.Line()\n",
    "\n",
    "win = plot.Canvas([line])\n",
    "\n",
    "line.setColor([1, 1, 0])\n",
    "\n",
    "x = np.linspace(-1, 1, 1000)\n",
    "\n",
    "def loop():\n",
    "    y = np.sin(x * np.pi * 2) * 0.8 + \\\n",
    "        np.random.rand(len(x)) * 0.1\n",
    "    line.setXY(x, y)\n",
    "\n",
    "win.setEventLoop(loop)\n",
    "\n",
    "win"
   ]
  }
 ],
 "metadata": {
  "kernelspec": {
   "display_name": "Python 3",
   "language": "python",
   "name": "python3"
  },
  "language_info": {
   "codemirror_mode": {
    "name": "ipython",
    "version": 3
   },
   "file_extension": ".py",
   "mimetype": "text/x-python",
   "name": "python",
   "nbconvert_exporter": "python",
   "pygments_lexer": "ipython3",
   "version": "3.10.6"
  },
  "orig_nbformat": 4,
  "vscode": {
   "interpreter": {
    "hash": "916dbcbb3f70747c44a77c7bcd40155683ae19c65e1c03b4aa3499c5328201f1"
   }
  }
 },
 "nbformat": 4,
 "nbformat_minor": 2
}
